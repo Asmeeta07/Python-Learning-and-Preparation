{
 "cells": [
  {
   "cell_type": "markdown",
   "metadata": {},
   "source": [
    "# Python Questionnaire "
   ]
  },
  {
   "cell_type": "markdown",
   "metadata": {},
   "source": [
    "Q: What are the supported standard data types in Python?\n",
    "Answer: The supported standard data types in Python include the following.\n",
    "Immutable\n",
    "\n",
    "1.\tNumber\n",
    "2.\tString\n",
    "3.\tTuple\n",
    "\n",
    "1.\tList.\n",
    "2.\tDictionary.\n",
    "3.\tsets."
   ]
  },
  {
   "cell_type": "markdown",
   "metadata": {},
   "source": [
    "Q. What are the key features of Python-\n",
    "\n",
    "A. 1. Python is an interpreted language – So it does need to be compiled before execution. Unlike C.\n",
    "2.  Python is dynamically typed. There is no need to declare a variable with the data type. Python interprets the data type based on a value.\n",
    "3. Python is OOP language. It has classes, inheritance, access specifiers (public and private keywords)\n",
    "4. Cross platform – Python language written on a windows system will also run on Linux platform with little or no modification.\n",
    "5. General purpose language- It can be used in Web development, Automation, Data science, Machine learning.\n"
   ]
  },
  {
   "cell_type": "markdown",
   "metadata": {},
   "source": [
    "Q. How is memory managed in Python?\n",
    "\n",
    "A. Memory in python is managed by something called Python privte heap. Python memory manager takes care of allocation python private heap space to different python objects.\n"
   ]
  },
  {
   "cell_type": "markdown",
   "metadata": {},
   "source": [
    "Q Difference between a Pass and a continue statement\n",
    "\n",
    "A. Pass- This statement literally does nothing, it will not show or move the control anywhere. Programmers use this mainly to keep a place holder for there statements and finctions.\n",
    "\n",
    "Continue- The continue keyword is used to end the current iteration in a for loop (or a while loop), and continues to the next iteration."
   ]
  },
  {
   "cell_type": "markdown",
   "metadata": {},
   "source": [
    "Q. What is a PYTHONPATH?\n",
    "\n",
    "A. The PYTHONPATH variable holds a string with the name of various directories that need to be added to the sys. path directory list by Python. The primary use of this variable is to allow users to import modules that are not made installable yet.\n",
    "In short, we can say that it is an environment variable that you set before running the Python interpreter.\n"
   ]
  },
  {
   "cell_type": "markdown",
   "metadata": {},
   "source": [
    "Q. What is Python namespace?\n",
    "\n",
    "A. Python namespace ensures that object names are unique within a programme and can be used without any conflict.\n",
    "Local Namespace: A variable used inside an Function, created when the function is called and deleted when the function returns.\n",
    "Global namespace: A variable defined and called upon inside an module or program is trigger and  is deleted when the script is finished running.\n",
    "Built-in Name space: name of some built in function in Python core. Or are defined in python exceptions\n"
   ]
  },
  {
   "cell_type": "raw",
   "metadata": {},
   "source": [
    "Q. What is a thread and what are the different stages of the Life Cycle of as Thread.\n",
    "A. Thread- \n",
    "A Thread is a separate flow of execution. Which means your program we will have 2 or more things happening at once. But most of python 3 implementation thread do not actual execute at the same, it appears to.\n",
    "\n",
    "\n",
    "1.\tStage 1 :  Creating a class where we can override the run method of the Thread Class.\n",
    "Create a thread and tell it to start.\n",
    "\n",
    "\n",
    "import logging\n",
    "import threading\n",
    "import time\n",
    "\n",
    "def thread_function(name):\n",
    "    logging.info(\"Thread %s: starting\", name)\n",
    "    time.sleep(2)\n",
    "    logging.info(\"Thread %s: finishing\", name)\n",
    "\n",
    "if __name__ == \"__main__\":\n",
    "    format = \"%(asctime)s: %(message)s\"\n",
    "    logging.basicConfig(format=format, level=logging.INFO,\n",
    "                        datefmt=\"%H:%M:%S\")\n",
    "    logging.info(\"Main    : before creating thread\")\n",
    "    x = threading.Thread(target=thread_function, args=(1,))\n",
    "    logging.info(\"Main    : before running thread\")\n",
    "    x.start()\n",
    "    logging.info(\"Main    : wait for the thread to finish\")\n",
    "    # x.join()\n",
    "    logging.info(\"Main    : all done\")\n",
    "\n",
    "\n",
    "When we create a thread, we pass a function and a list that contains the arguments of the function. Here, we tell thread to run thread_function and a list that contains the arguments to the function.  Her it is args=(1,))\n",
    "\n",
    "Output\n",
    "19:42:52: Main    : before creating thread\n",
    "19:42:52: Main    : before running thread\n",
    "19:42:52: Thread 1: starting\n",
    "19:42:52: Main    : wait for the thread to finish\n",
    "19:42:52: Main    : all done\n",
    "19:42:54: Thread 1: finishing\n",
    "\n",
    "\n",
    "\n",
    "2.\tWe make a call .start() on the new thread."
   ]
  },
  {
   "cell_type": "markdown",
   "metadata": {},
   "source": [
    "Q. What is inheritance in python?\n",
    "\n",
    "A. As in all OOP, python provide the ability to inherit properties from another class. The class from where the properties is being derived is called the super class or the parent class and the class who is inheriting the properties is called the sub class or the child class.\n"
   ]
  },
  {
   "cell_type": "raw",
   "metadata": {},
   "source": [
    "Q. What are the types of inheritance and give example.\n",
    "A. a. Single inheritance- when a function inherit from one parent class\n",
    "Example-\n",
    "\n",
    "\n",
    "class Person:\n",
    "    def  __init__(self,fname, lname):\n",
    "        self.fname = fname\n",
    "        self.lname = lname\n",
    "    \n",
    "    def intro(self):\n",
    "        return \"The Person name is {} {}\".format(self.fname.capitalize(), self.lname.capitalize())\n",
    "class Child(Person):\n",
    "    def __init__(self, fname, lname, id_, add):\n",
    "        self.id_ = id_\n",
    "        self.add = add\n",
    "        Person.__init__(self, fname,lname)\n",
    "        \n",
    "    def info(self):\n",
    "        return \"The Person's id and addresss is {} and {}\".format(self.id_,self.add)\n",
    "        \n",
    "        \n",
    "b. Multi inheritance- When a class inherits from more than one parent class.\n",
    "Example\n",
    "class Person_first:\n",
    "    def  __init__(self,fname, lname):\n",
    "        self.fname = fname\n",
    "        self.lname = lname\n",
    "    \n",
    "    def intro(self):\n",
    "        return \"The Person name is {} {}\".format(self.fname.capitalize(), self.lname.capitalize())\n",
    "    \n",
    "class Person_second:\n",
    "    def __init__(self,color, music):\n",
    "        self.color = color\n",
    "        self.music = music\n",
    "        \n",
    "    def extra_cc(self):\n",
    "        return \"The person's favourite color and music is {} and {} respectively\".format(self.color,self.music)\n",
    "\n",
    "class Child(Person_first,Person_second):\n",
    "    def __init__(self, fname, lname, id_, add,color,music):\n",
    "        self.id_ = id_\n",
    "        self.add = add\n",
    "        Person_first.__init__(self, fname,lname)\n",
    "        Person_second.__init__(self, color,music)\n",
    "        \n",
    "    def info(self):\n",
    "        return \"The Person's id and addresss is {} and {}\".format(self.id_,self.add)\n",
    "        \n",
    "        \n",
    "c. Multi level inheritance- When a class derives property from another class that already derives property from another. That mean if we have a grandparent, parent and child condition.\n",
    "Example:\n",
    "class Grandparents():\n",
    "    def __init__(self,fname, lname):\n",
    "        self.fname = fname\n",
    "        self.lname = lname    \n",
    "    def intro(self):\n",
    "        return \"The name is {} {}\".format(self.fname.capitalize(), self.lname.capitalize())\n",
    "\n",
    "class Parents(Grandparents):\n",
    "    def __init__(self,fname, lname,age):\n",
    "        self.age = age\n",
    "        Grandparents.__init__(self,fname,lname)\n",
    "   def info(self):\n",
    "        return \"The age is {}\".format(self.age)\n",
    "\n",
    "class Child(Parents):\n",
    "    def __init__(self,fname,lname, age,address):\n",
    "        self.address = address\n",
    "        Parents.__init__(self, fname,lname, age)\n",
    " def getaddress(self):\n",
    "        return \"The address is {}\".format(self.address.capitalize())\n",
    "\n",
    "person = Child(\"asmeeta\",\"dewari\",29,\"assam\")\n",
    "print(person.intro())\n",
    "print(person.info())\n",
    "print(person.getaddress())\n",
    "\n",
    "\n",
    "d. Hierarchical inheritance- when more than one class is derived from a single parent. A parent have more than 1 child\n",
    "example\n",
    "#Heirarchical inheritance\n",
    "class Parent():\n",
    "    def __init__(self,Name):\n",
    "        self.Name = Name\n",
    "    def getParentName(self):\n",
    "        return \"This is Parent with Name {}\".format(self.Name)\n",
    "    \n",
    "class Child1(Parent):\n",
    "    def __init__(self,cName,Name):\n",
    "        self.cName = cName\n",
    "        Parent.__init__(self,Name)\n",
    "    def getchildName(self):\n",
    "        return \"This is Child 1 with Name {}\".format(self.cName)\n",
    "    \n",
    "class Child2(Parent):\n",
    "    def __init__(self,cName,Name):\n",
    "        self.cName = cName\n",
    "        Parent.__init__(self,Name)\n",
    "    def getchildName(self):\n",
    "        return \"This is Child 2 with Name {}\".format(self.cName)\n",
    "\n",
    "print(child1.getParentName())\n",
    "print(child1.getchildName())\n",
    "print(child2.getParentName())\n",
    "print(child2.getchildName())\n",
    "\n",
    "\n",
    "e. Hybrid Inheritance- When there is more than one inheritance involved in a single scenario.\n",
    "Like Multilevel with Hierarchical inheritance\n"
   ]
  },
  {
   "cell_type": "markdown",
   "metadata": {},
   "source": [
    "Q: Does Python support an intrinsic do-while loop?\n",
    "\n",
    "A: No Python does not support an intrinsic do-while loop.\n"
   ]
  },
  {
   "cell_type": "markdown",
   "metadata": {},
   "source": [
    "Q: What is the map() function used for in Python?\n",
    "\n",
    "A: The map() function applies a given function to each item of an iterable. It then returns a list of the results. The value returned from the map() function can then be passed on to functions to the likes of the list() and set().\n",
    "Typically, the given function is the first argument and the iterable is available as the second argument to a map() function. Several tables are given if the function takes in more than one argument.\n",
    "\n",
    "Filter() -  - The filter() method filters the given sequence with the help of a function that tests each element in the sequence to be true or not.\n"
   ]
  },
  {
   "cell_type": "markdown",
   "metadata": {},
   "source": [
    "Q. What is the differece between an list and a numpy array?\n",
    "\n",
    "A. A numpy array is a core library for scientific computing in Python. It provides a high-performance multidimensional array object, and tools for working with these arrays. A numpy array is a grid of values, all of the same type, and is indexed by a tuple of nonnegative integers. The number of dimensions is the rank of the array; the shape of an array is a tuple of integers giving the size of the arrays along each dimension.\n",
    "\n",
    "The Python core library provided Lists. A list is the Python equivalent of an array, but is resizeable and can contain elements of different types.\n"
   ]
  },
  {
   "cell_type": "markdown",
   "metadata": {},
   "source": [
    "Q. What is the lambda function?\n",
    "\n",
    "A. Lambda functions are small anonymous functions in Python. It has single expressions and accepts multiples arguments.\n"
   ]
  },
  {
   "cell_type": "markdown",
   "metadata": {},
   "source": [
    "Q.What is the __init__ method?\n",
    "\n",
    "A. The __init__ is the constructor method similar to the constructors in other OOP languages. It executes immediately when we create an object for the class. It’s used to initialize the initial data for the instance.\n",
    "This method allocates memory to the object as soon as it is executed.\n"
   ]
  },
  {
   "cell_type": "markdown",
   "metadata": {},
   "source": [
    "Q. What is the lambda function?\n",
    "\n",
    "A. An anonymous function is known as a lambda function. This function can have only one statement but can have any number of parameters.\n"
   ]
  },
  {
   "cell_type": "markdown",
   "metadata": {},
   "source": [
    "Q. What is the lambda function?\n",
    "\n",
    "A. An anonymous function is known as a lambda function. This function can have only one statement but can have any number of parameters.\n"
   ]
  },
  {
   "cell_type": "markdown",
   "metadata": {},
   "source": [
    "Q. What is the difference between is and ==?\n",
    "\n",
    "A. The == operator is used to check whether two objects have the same value or not. The is operator is used to check whether two objects are referring to the same memory location or not.\n"
   ]
  },
  {
   "cell_type": "raw",
   "metadata": {},
   "source": [
    "Q.. What advantages do NumPy arrays offer over (nested) Python lists?\n",
    "\n",
    "A.\n",
    "Nested Lists:\n",
    "•\tPython lists are efficient general-purpose containers that support efficient operations like insertion,appending,deletion and concatenation.\n",
    "•\tThe limitations of lists are that they don’t support “vectorized” operations like element wise addition and multiplication, and the fact that they can contain objects of differing types mean that Python must store type information for every element, and must execute type dispatching code when operating on each element.\n",
    "•\tCan consist of elements of different data type. \n",
    "•\tCan have nested elements of different size\n",
    "•\tFlexible to modify\n",
    "•\tConsume more memory\n",
    "•\tCan be printed entirely without using Loop\n",
    "\n",
    "Numpy:\n",
    "•\tNumPy is more efficient and more convenient as you get a lot of vector and matrix operations for free, which helps to avoid unnecessary work and complexity of the code.Numpy is also efficiently implemented when compared to nested\n",
    "•\tNumPy array is faster and contains a lot of built-in functions which will help in FFTs, convolutions, fast searching, linear algebra,basic statistics, histograms,etc.\n",
    "•\tCan only consist of elements of same data type\n",
    "•\tCan only consist of nested element of the same size\n",
    "•\tNot very flexible and ready for modification\n",
    "•\tConsume less memory and faster\n",
    "•\tCannot be printed entirely without using a loop.\n"
   ]
  },
  {
   "cell_type": "raw",
   "metadata": {},
   "source": [
    "Q. Write a Python program to check whether a given string is a palindrome or not, without using an iterative method?\n",
    "\n",
    "A. def fun(string):\n",
    "    \n",
    "s1 = string\n",
    "s = string[::-1]\n",
    "if(s1 == s):\n",
    "    return true\n",
    "else:\n",
    "    return false\n",
    "print(fun(“madam”))\n"
   ]
  },
  {
   "cell_type": "raw",
   "metadata": {},
   "source": [
    "Q. Write a program in Python to execute the Bubble sort algorithm?\n",
    "\n",
    "def bubbleSort(x):\n",
    "\n",
    "    n = len(x)\n",
    "\n",
    "# Traverse through all array elements\n",
    "\n",
    "    for i in range(n-1):\n",
    "\n",
    "        for j in range(0, n-i-1):\n",
    "\n",
    "\n",
    "            if x[j] > x[j+1] :\n",
    "\n",
    "                x[j], x[j+1] = x[j+1], x[j]\n",
    "\n",
    "# Driver code to test above\n",
    "\n",
    "arr = [25, 34,47, 21, 22, 11,37]\n",
    "\n",
    "bubbleSort(arr)\n",
    "\n",
    "print (\"Sorted array is:\")\n",
    "\n",
    "for i in range(len(arr)):\n",
    "\n",
    "    print (\"%d\" %arr[i])\n",
    "Output:\n",
    "11,21,22,25,34,37,47\n"
   ]
  },
  {
   "cell_type": "raw",
   "metadata": {},
   "source": [
    "96. Write a program in Python to produce Star triangle?\n",
    "def Star_triangle(n):\n",
    "    for x in range(n):\n",
    "        print(' '*(n-x-1)+'*'*(2*x+1))\n",
    "Star_triangle(9)\n",
    "\n",
    "\n",
    "Output:\n",
    "*\n",
    "***\n",
    "*****\n",
    "*******\n",
    "*********\n",
    "***********\n",
    "*************\n",
    "***************\n",
    "*****************\n"
   ]
  },
  {
   "cell_type": "raw",
   "metadata": {},
   "source": [
    "Q. Write a program to produce Fibonacci series in Python?\n",
    "\n",
    "Fibonacci series refers to the series where the element is the sum of two elements prior to it.\n",
    "n = int(input(\"number of terms? \"))\n",
    "n1, n2 = 0, 1\n",
    "count = 0\n",
    " \n",
    "if n <= 0:\n",
    "    print(\"Please enter a positive integer\")\n",
    "    elif n == 1:\n",
    "        print(\"Fibonacci sequence upto\",nterms,\":\")\n",
    "        print(n1)\n",
    "    else:\n",
    "        print(\"Fibonacci sequence:\")\n",
    "        while count < n:\n",
    "        print(n1)\n",
    "        nth = n1 + n2\n",
    "        n1 = n2\n",
    "        n2 = nth\n",
    "        count += 1\n",
    "\n"
   ]
  },
  {
   "cell_type": "raw",
   "metadata": {},
   "source": [
    "Q. Write a program in Python to check if a number is prime?\n",
    "\n",
    "num = 13\n",
    "\n",
    "if num > 1:\n",
    "\n",
    "    for i in range(2, int(num/2)+1):\n",
    "\n",
    "        if (num % i) == 0:\n",
    "\n",
    "            print(num, \"is not a prime number\")\n",
    "\n",
    "            break\n",
    "\n",
    "        elif:\n",
    "\n",
    "            print(num, \"is a prime number\")\n",
    "\n",
    "        else:\n",
    "\n",
    "            print(num, \"is not a prime number\")\n",
    "\n",
    "\n",
    "\n",
    "Output:\n",
    "13 is a prime number\n"
   ]
  },
  {
   "cell_type": "raw",
   "metadata": {},
   "source": [
    "Q. Write a sorting algorithm for a numerical dataset in Python?\n",
    "A.\n",
    "\n",
    "code to sort a list in Python:\n",
    "my_list = [\"8\", \"4\", \"3\", \"6\", \"2\"]\n",
    "\n",
    "my_list = [int(i) for i in list]\n",
    "\n",
    "my_list.sort()\n",
    "\n",
    "print (my_list)\n",
    "\n",
    "Output:\n",
    "2,3,4,6,8\n"
   ]
  },
  {
   "cell_type": "raw",
   "metadata": {},
   "source": [
    "Q. Write a Program to print ASCII Value of a character in python?\n",
    "\n",
    "x= 'a'\n",
    "\n",
    "# print the ASCII value of assigned character stored in x\n",
    "\n",
    "print(\" ASCII value of '\" + x + \"' is\", ord(x))\n",
    "Output: 65\n"
   ]
  },
  {
   "cell_type": "markdown",
   "metadata": {},
   "source": [
    "Q. What are the significant features of the pandas Library?\n",
    "\n",
    "A. The key features of the panda's library are as follows:\n",
    "1. Memory Efficient\n",
    "2. Data Alignment\n",
    "3. Reshaping\n",
    "4. Merge and join\n",
    "5. Time Series\n"
   ]
  },
  {
   "cell_type": "markdown",
   "metadata": {},
   "source": [
    "Q. What is the difference between iloc and loc?\n",
    "\n",
    "A. \n",
    "1. The loc basically works for the labels of our index. It can be understood as if we insert in loc, which means we are looking for that values of DataFrame that have an index labeled 4.\n",
    "\n",
    "2. The iloc basically works for the positions in the index. It can be understood as if we insert in iloc, which means we are looking for the values of DataFrame that are present at index '4`.\n"
   ]
  },
  {
   "cell_type": "raw",
   "metadata": {},
   "source": [
    "Q. How to get the items of series A not present in series B?\n",
    "\n",
    "A. We can remove items present in p2 from p1 using isin() method.\n",
    "1.\timport pandas as pd  \n",
    "2.\tp1 = pd.Series([2, 4, 6, 8, 10])  \n",
    "3.\tp2 = pd.Series([8, 10, 12, 14, 16])  \n",
    "4.\tp1[~p1.isin(p2)]  \n"
   ]
  },
  {
   "cell_type": "raw",
   "metadata": {},
   "source": [
    "Q. How to get the items not common to both series A and series B?\n",
    "A.\n",
    "We get all the items of p1 and p2 not common to both using below example:\n",
    "\timport pandas as pd  \n",
    "\timport numpy as np  \n",
    "\tp1 = pd.Series([2, 4, 6, 8, 10])  \n",
    "\tp2 = pd.Series([8, 10, 12, 14, 16])  \n",
    "\tp1[~p1.isin(p2)]  \n",
    "\tp_u = pd.Series(np.union1d(p1, p2))  # union  \n",
    "\tp_i = pd.Series(np.intersect1d(p1, p2))  # intersect  \n",
    "\tp_u[~p_u.isin(p_i)]  \n"
   ]
  },
  {
   "cell_type": "raw",
   "metadata": {},
   "source": [
    "Q.  How to get the minimum, 25th percentile, median, 75th, and max of a numeric series?\n",
    "A.\n",
    "We can compute the minimum, 25th percentile, median, 75th, and maximum of p as below example:\n",
    "\timport pandas as pd  \n",
    "\timport numpy as np  \n",
    "\tp = pd.Series(np.random.normal(14, 6, 22))  \n",
    "\tstate = np.random.RandomState(120)  \n",
    "\tp = pd.Series(state.normal(14, 6, 22))  \n",
    "\tnp.percentile(p, q=[0, 25, 50, 75, 100])  \n"
   ]
  },
  {
   "cell_type": "raw",
   "metadata": {},
   "source": [
    "Q. How to get frequency counts of unique items of a series?\n",
    "A. We can calculate the frequency counts of each unique value p as below example:\n",
    "\n",
    "\timport pandas as pd  \n",
    "\timport numpy as np  \n",
    "\tp= pd.Series(np.take(list('pqrstu'), np.random.randint(6, size=17)))  \n",
    "\tp = pd.Series(np.take(list('pqrstu'), np.random.randint(6, size=17)))  \n",
    "\tp.value_counts()  \n"
   ]
  },
  {
   "cell_type": "raw",
   "metadata": {},
   "source": [
    "Q. How to convert a numpy array to a dataframe of given shape?\n",
    "\n",
    "A. We can reshape the series p into a dataframe with 6 rows and 2 columns as below example:\n",
    "\timport pandas as pd  \n",
    "\timport numpy as np  \n",
    "\tp = pd.Series(np.random.randint(1, 7, 35))  \n",
    "\t# Input  \n",
    "\tp = pd.Series(np.random.randint(1, 7, 35))  \n",
    "\tinfo = pd.DataFrame(p.values.reshape(7,5))  \n",
    "\tprint(info)  \n"
   ]
  },
  {
   "cell_type": "code",
   "execution_count": null,
   "metadata": {},
   "outputs": [],
   "source": []
  }
 ],
 "metadata": {
  "kernelspec": {
   "display_name": "Python 3",
   "language": "python",
   "name": "python3"
  },
  "language_info": {
   "codemirror_mode": {
    "name": "ipython",
    "version": 3
   },
   "file_extension": ".py",
   "mimetype": "text/x-python",
   "name": "python",
   "nbconvert_exporter": "python",
   "pygments_lexer": "ipython3",
   "version": "3.7.3"
  }
 },
 "nbformat": 4,
 "nbformat_minor": 2
}
